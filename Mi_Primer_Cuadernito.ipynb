{
  "nbformat": 4,
  "nbformat_minor": 0,
  "metadata": {
    "colab": {
      "name": "Mi Primer Cuadernito.ipynb",
      "provenance": []
    },
    "kernelspec": {
      "name": "python3",
      "display_name": "Python 3"
    }
  },
  "cells": [
    {
      "cell_type": "markdown",
      "metadata": {
        "id": "pnZLBrf6dqFH"
      },
      "source": [
        "# Título\n",
        "\n"
      ]
    },
    {
      "cell_type": "markdown",
      "metadata": {
        "id": "YpnpSMkxjtA_"
      },
      "source": [
        "## Subtítulo"
      ]
    },
    {
      "cell_type": "markdown",
      "metadata": {
        "id": "68bspTUGj0vn"
      },
      "source": [
        "### Subsubtitulo\n",
        "\n",
        "Aquí escribo texto\n",
        "\n",
        "***SUPREME***"
      ]
    },
    {
      "cell_type": "markdown",
      "metadata": {
        "id": "7iqu0Etvj8Ex"
      },
      "source": [
        "[Enlace Aqui Markdown](https://www.markdownguide.org/getting-started/)\n",
        "\n",
        "![MattConeGuide](https://d33wubrfki0l68.cloudfront.net/cb41dd8e38b0543a305f9c56db89b46caa802263/25192/assets/images/book-cover.jpg)"
      ]
    },
    {
      "cell_type": "markdown",
      "metadata": {
        "id": "qpcnfkxflSpO"
      },
      "source": [
        "> Me pregunto qué estará pensando"
      ]
    },
    {
      "cell_type": "markdown",
      "metadata": {
        "id": "tpLlt7xbljK1"
      },
      "source": [
        "# Lenguaje LaTeX"
      ]
    },
    {
      "cell_type": "markdown",
      "metadata": {
        "id": "nNtl6COAlp9Z"
      },
      "source": [
        "El lenguaje LaTeX se usa para colocar ecuaciones matemáticas de forma profesional.\n",
        "\n",
        "Es el lenguaje estánder usado por la mayoría de los científicos en el mundo.\n",
        "\n",
        "$$y=x^2$$\n",
        "\n",
        "$$\\frac{dx}{dt}=kC$$"
      ]
    },
    {
      "cell_type": "code",
      "metadata": {
        "colab": {
          "base_uri": "https://localhost:8080/"
        },
        "id": "h4RR0x5DnG0Q",
        "outputId": "eab89165-4608-4ff2-cd47-a09bede0965d"
      },
      "source": [
        "print(\"Hola mundo\")"
      ],
      "execution_count": 1,
      "outputs": [
        {
          "output_type": "stream",
          "text": [
            "Hola mundo\n"
          ],
          "name": "stdout"
        }
      ]
    }
  ]
}